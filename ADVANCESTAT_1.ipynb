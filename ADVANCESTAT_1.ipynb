{
  "nbformat": 4,
  "nbformat_minor": 0,
  "metadata": {
    "colab": {
      "provenance": []
    },
    "kernelspec": {
      "name": "python3",
      "display_name": "Python 3"
    },
    "language_info": {
      "name": "python"
    }
  },
  "cells": [
    {
      "cell_type": "markdown",
      "source": [
        "1: What is a random variable in probability theory?\n",
        "\n",
        "Answer:  \n",
        "In probability theory, a random variable is a function that assigns a numerical value to each outcome of a random experiment.\n",
        "Types of random variables:\n",
        "Discrete random variable  takes on a countable set of values.\n",
        "\n",
        "\n",
        "            Example: Number of heads in 3 coin tosses → {0, 1, 2, 3}.\n",
        "\n",
        "\n",
        "Continuous random variable  takes on values from a continuous range.\n",
        "\n",
        "\n",
        "            Example: The time it takes for a bus to arrive → any real number ≥ 0.\n",
        "\n",
        "\n",
        "\n"
      ],
      "metadata": {
        "id": "W8XPC7s3RqAe"
      }
    },
    {
      "cell_type": "markdown",
      "source": [
        "2: What are the types of random variables?\n",
        "\n",
        "Answer:\n",
        "Types of random variables:\n",
        "Discrete random variable takes on a countable set of values.\n",
        "\n",
        "\n",
        "Example: Number of heads in 3 coin tosses → {0, 1, 2, 3}.\n",
        "\n",
        "\n",
        "Continuous random variable takes on values from a continuous range.\n",
        "\n",
        "\n",
        "Example: The time it takes for a bus to arrive → any real number ≥ 0.\n",
        "\n",
        "\n",
        "\n"
      ],
      "metadata": {
        "id": "pyvLtF7_R0VE"
      }
    },
    {
      "cell_type": "markdown",
      "source": [
        "3: Explain the difference between discrete and continuous distributions.\n",
        "Answer:\n",
        "In probability theory, a discrete distribution describes situations where a random variable can take only specific, countable values, such as the outcome of rolling a die or the number of heads in coin tosses. Each possible value has a certain probability, and the sum of all probabilities equals one. In contrast, a continuous distribution applies when a random variable can take any value within an interval of real numbers, such as height, weight, or time. Here, the probability of the variable taking any exact value is zero, and probabilities are instead defined over intervals using a probability density function (PDF), where the total area under the curve is one. In short, discrete distributions work with countable outcomes using a probability mass function (PMF), while continuous distributions handle uncountable outcomes using a PDF.\n",
        "\n"
      ],
      "metadata": {
        "id": "kdC-VHX4R0Rv"
      }
    },
    {
      "cell_type": "markdown",
      "source": [
        "4: What is a binomial distribution, and how is it used in probability?\n",
        "\n",
        "Answer:\n",
        "A binomial distribution is a type of discrete probability distribution that describes the number of successes in a fixed number of independent trials, where each trial has only two possible outcomes: success or failure. It is defined by two parameters: nnn, the number of trials, and ppp, the probability of success on each trial. The probability of getting exactly kkk successes is given by:\n",
        "P(X=k)=(nk)pk(1−p)n−k,k=0,1,2,…,nP(X = k) = \\binom{n}{k} p^k (1-p)^{n-k}, \\quad k = 0,1,2,\\dots,nP(X=k)=(kn​)pk(1−p)n−k,k=0,1,2,…,n\n",
        "where (nk)\\binom{n}{k}(kn​) is the number of ways to choose kkk successes out of nnn trials.\n",
        "The binomial distribution is widely used in probability and statistics to model real-life situations where experiments consist of repeated independent trials with the same probability of success. For example, it can be used to calculate the probability of getting a certain number of heads in multiple coin tosses, the number of defective items in a batch of products, or the number of patients recovering after a treatment when the success rate is known.\n",
        "\n",
        "\n",
        "\n"
      ],
      "metadata": {
        "id": "smAjXlwwR0O7"
      }
    },
    {
      "cell_type": "markdown",
      "source": [
        "5: What is the standard normal distribution, and why is it important?\n",
        "\n",
        " Answer:\n",
        "The standard normal distribution is a bell-shaped curve with a mean of 0 and a standard deviation of 1. It is important because any normal distribution can be converted to it using a z-score, making probability calculations easier. It is widely used in hypothesis testing, confidence intervals, and the Central Limit Theorem.\n",
        "\n"
      ],
      "metadata": {
        "id": "odQO5-7vR0L7"
      }
    },
    {
      "cell_type": "markdown",
      "source": [
        "6: What is the Central Limit Theorem (CLT), and why is it critical in statistics?\n",
        "\n",
        " Answer:\n",
        "The Central Limit Theorem (CLT) states that when we take a large number of independent random samples from any population with a finite mean and variance, the distribution of the sample means will approximate a normal distribution, regardless of the population’s original shape. The mean of this sampling distribution equals the population mean, and its standard deviation (called the standard error) is σ/n\\sigma / \\sqrt{n}σ/n​, where σ\\sigmaσ is the population standard deviation and nnn is the sample size.\n",
        "The CLT is critical because it allows statisticians to use the normal distribution as an approximation in many real-world problems, even when the original data is not normally distributed. This makes it the foundation for hypothesis testing, confidence intervals, and many inferential statistics methods, enabling us to draw reliable conclusions about populations from samples.\n",
        "\n",
        "\n",
        "\n"
      ],
      "metadata": {
        "id": "RLQmKs6ZR0Jg"
      }
    },
    {
      "cell_type": "markdown",
      "source": [
        " 7: What is the significance of confidence intervals in statistical analysis?\n",
        "\n",
        "  Answer:  A confidence interval (CI) is a range of values, derived from sample data, that is likely to contain the true population parameter (such as the mean or proportion) with a specified level of confidence, usually 95% or 99%. Instead of giving just a single estimate, confidence intervals provide an interval estimate that reflects both the sample data and the uncertainty due to sampling variability.\n",
        "The significance of confidence intervals lies in the fact that they not only give an estimate but also show the precision and reliability of that estimate. A narrow interval indicates high precision, while a wide interval suggests more uncertainty. Confidence intervals are widely used in hypothesis testing, decision-making, and research reporting because they provide more information than a single point estimate and allow us to assess the uncertainty and significance of results.\n",
        "\n",
        "\n",
        "\n"
      ],
      "metadata": {
        "id": "Np7yME9UR0Gs"
      }
    },
    {
      "cell_type": "markdown",
      "source": [
        "8 What is the concept of expected value in a probability distribution?\n",
        "\n",
        "Answer:  The expected value is the long-run average of a random variable, showing the outcome you’d expect on average if an experiment is repeated many times. For discrete variables, it’s the sum of each value times its probability, and for continuous variables, it’s the integral of xxx times the probability density. It represents the mean of a probability distribution.\n",
        "\n"
      ],
      "metadata": {
        "id": "MkuCQTEaR0D2"
      }
    },
    {
      "cell_type": "code",
      "source": [
        "# 9: Write a Python program to generate 1000 random numbers from a normal  distribution with mean = 50 and standard deviation = 5.\n",
        "#  Compute its mean and standard  deviation using NumPy, and draw a histogram to visualize the distribution.\n",
        "\n",
        "import numpy as np\n",
        "import matplotlib.pyplot as plt\n",
        "\n",
        "# Set parameters for the normal distribution\n",
        "mean = 50\n",
        "std_dev = 5\n",
        "size = 1000\n",
        "\n",
        "# Generate 1000 random numbers from the normal distribution\n",
        "data = np.random.normal(loc=mean, scale=std_dev, size=size)\n",
        "\n",
        "# Compute the mean and standard deviation of the generated data\n",
        "calculated_mean = np.mean(data)\n",
        "calculated_std = np.std(data)\n",
        "\n",
        "print(f\"Calculated Mean: {calculated_mean:.2f}\")\n",
        "print(f\"Calculated Standard Deviation: {calculated_std:.2f}\")\n",
        "\n",
        "# Plot a histogram to visualize the distribution\n",
        "plt.hist(data, bins=30, color='skyblue', edgecolor='black')\n",
        "plt.title(\"Histogram of Normal Distribution (mean=50, std=5)\")\n",
        "plt.xlabel(\"Value\")\n",
        "plt.ylabel(\"Frequency\")\n",
        "plt.grid(True, linestyle='--', alpha=0.5)\n",
        "plt.show()\n"
      ],
      "metadata": {
        "colab": {
          "base_uri": "https://localhost:8080/",
          "height": 507
        },
        "id": "mLOfriypS8_f",
        "outputId": "1d9ff4eb-4e1c-4944-90bc-1d5959f4f568"
      },
      "execution_count": 1,
      "outputs": [
        {
          "output_type": "stream",
          "name": "stdout",
          "text": [
            "Calculated Mean: 50.21\n",
            "Calculated Standard Deviation: 5.04\n"
          ]
        },
        {
          "output_type": "display_data",
          "data": {
            "text/plain": [
              "<Figure size 640x480 with 1 Axes>"
            ],
            "image/png": "[encoded data removed]"
          },
          "metadata": {}
        }
      ]
    },
    {
      "cell_type": "code",
      "source": [
        "# 10: You are working as a data analyst for a retail company. The company has  collected daily sales data for 2 years and wants you to\n",
        "#  identify the overall sales trend.\n",
        "# daily_sales = [220, 245, 210, 265, 230, 250, 260, 275, 240, 255,\n",
        "#  235, 260, 245, 250, 225, 270, 265, 255, 250, 260]\n",
        "# ● Explain how you would apply the Central Limit Theorem to estimate the average sales  with a 95% confidence interval.\n",
        "# ● Write the Python code to compute the mean sales and its confidence interval.\n",
        "\n",
        "# Answer:\n",
        "# Applying the Central Limit Theorem (CLT)\n",
        "# Central Limit Theorem states that for a sufficiently large sample size, the sampling distribution of the sample mean is approximately normal,\n",
        "#  regardless of the original distribution.\n",
        "\n",
        "# Even though the dataset is small (20 daily sales values), we can assume normality or use the t-distribution for more accurate confidence\n",
        "# intervals.\n",
        "# To estimate the average sales with a 95% confidence interval (CI):\n",
        "# Compute the sample mean (xˉ\\bar{x}xˉ) and sample standard deviation (sss).\n",
        "\n",
        "\n",
        "import numpy as np\n",
        "from scipy import stats\n",
        "\n",
        "# Daily sales data\n",
        "daily_sales = [220, 245, 210, 265, 230, 250, 260, 275, 240, 255,\n",
        "               235, 260, 245, 250, 225, 270, 265, 255, 250, 260]\n",
        "\n",
        "# Sample size, mean, and standard deviation\n",
        "n = len(daily_sales)\n",
        "mean_sales = np.mean(daily_sales)\n",
        "std_sales = np.std(daily_sales, ddof=1)  # sample standard deviation\n",
        "\n",
        "# 95% confidence interval using t-distribution\n",
        "confidence = 0.95\n",
        "alpha = 1 - confidence\n",
        "t_critical = stats.t.ppf(1 - alpha/2, df=n-1)\n",
        "margin_of_error = t_critical * (std_sales / np.sqrt(n))\n",
        "\n",
        "ci_lower = mean_sales - margin_of_error\n",
        "ci_upper = mean_sales + margin_of_error\n",
        "\n",
        "print(f\"Mean Daily Sales: {mean_sales:.2f}\")\n",
        "print(f\"95% Confidence Interval: ({ci_lower:.2f}, {ci_upper:.2f})\")\n",
        "\n"
      ],
      "metadata": {
        "colab": {
          "base_uri": "https://localhost:8080/"
        },
        "id": "zOovE8QeTGb-",
        "outputId": "8423a809-4c5d-4690-8272-39f2e8fd4f53"
      },
      "execution_count": 3,
      "outputs": [
        {
          "output_type": "stream",
          "name": "stdout",
          "text": [
            "Mean Daily Sales: 248.25\n",
            "95% Confidence Interval: (240.17, 256.33)\n"
          ]
        }
      ]
    }
  ]
}